{
 "cells": [
  {
   "cell_type": "code",
   "execution_count": null,
   "metadata": {
    "scrolled": false
   },
   "outputs": [],
   "source": [
    "from cronjob import get_repositories\n",
    "from crowdin import crowdin_download_missing_translations, crowdin_request, delete_code_translations, delete_translation, get_orphaned_files_as_data_frame\n",
    "from crowdin_sync import get_repository_state, update_repository\n",
    "from datetime import datetime\n",
    "from file_manager import get_crowdin_file, get_local_file\n",
    "import git\n",
    "import json\n",
    "import os\n",
    "import pandas as pd\n",
    "import re\n",
    "from repository import initial_dir\n",
    "from zendesk import download_zendesk_articles, update_zendesk_articles, update_zendesk_translation, zendesk_get_request"
   ]
  },
  {
   "cell_type": "code",
   "execution_count": null,
   "metadata": {
    "scrolled": true
   },
   "outputs": [],
   "source": [
    "repositories_df = pd.read_csv('repositories.csv', comment='#')\n",
    "repositories_df"
   ]
  },
  {
   "cell_type": "code",
   "execution_count": null,
   "metadata": {},
   "outputs": [],
   "source": [
    "def get_update_result(index):\n",
    "    repository = get_repositories(False)[index]\n",
    "    return repository, get_repository_state(repository)"
   ]
  },
  {
   "cell_type": "markdown",
   "metadata": {},
   "source": [
    "# Update liferay-docs"
   ]
  },
  {
   "cell_type": "code",
   "execution_count": null,
   "metadata": {},
   "outputs": [],
   "source": [
    "repository, update_result = get_update_result(4)"
   ]
  },
  {
   "cell_type": "code",
   "execution_count": null,
   "metadata": {},
   "outputs": [],
   "source": [
    "new_files, all_files, file_info = update_result"
   ]
  },
  {
   "cell_type": "code",
   "execution_count": null,
   "metadata": {},
   "outputs": [],
   "source": [
    "crowdin_download_missing_translations(repository, all_files, file_info)"
   ]
  },
  {
   "cell_type": "code",
   "execution_count": null,
   "metadata": {},
   "outputs": [],
   "source": [
    "uat_domain = 'liferaysupport1528999723.zendesk.com'\n",
    "prod_domain = 'liferay-support.zendesk.com'"
   ]
  },
  {
   "cell_type": "code",
   "execution_count": null,
   "metadata": {},
   "outputs": [],
   "source": [
    "from zendesk_docs import get_translation_target_articles"
   ]
  },
  {
   "cell_type": "code",
   "execution_count": null,
   "metadata": {},
   "outputs": [],
   "source": [
    "article_ids, articles = get_translation_target_articles(prod_domain, repository, file_info)"
   ]
  },
  {
   "cell_type": "code",
   "execution_count": null,
   "metadata": {},
   "outputs": [],
   "source": [
    "for key, value in article_ids.items():\n",
    "    if value is None:\n",
    "        print(key)"
   ]
  },
  {
   "cell_type": "markdown",
   "metadata": {},
   "source": [
    "# Test updating ignore list"
   ]
  },
  {
   "cell_type": "code",
   "execution_count": null,
   "metadata": {},
   "outputs": [],
   "source": [
    "def add_ignore_files(repository, folder):\n",
    "    os.chdir(repository.github.git_root)\n",
    "    translated_files = get_eligible_files(repository, git.ls_files(folder), 'ja')\n",
    "    os.chdir(initial_dir)\n",
    "\n",
    "    source_files = [\n",
    "        'en/' + file[3:] if file[0:3] == 'ja/' else file.replace('/ja/', '/en/')\n",
    "            for file in translated_files\n",
    "    ]\n",
    "    \n",
    "    entries = set()\n",
    "\n",
    "    for x in pd.read_csv('%s/ignore.csv' % initial_dir).to_records(index=False):\n",
    "        entries.add('%s/%s' % (x[0], x[1]))\n",
    "\n",
    "        if x[1][-3:] == '.md':\n",
    "            entries.add('%s/%s.markdown' % (x[0], x[1][:-3]))\n",
    "    \n",
    "    for x in source_files:\n",
    "        entries.add('%s/%s' % (repository.github.upstream, x))\n",
    "\n",
    "        if x[-3:] == '.md':\n",
    "            entries.add('%s/%s.markdown' % (repository.github.upstream, x[:-3]))\n",
    "\n",
    "    def get_ignore_entry(path):\n",
    "        remote, repo_name, file = path.split('/', 2)\n",
    "        return { 'repository': remote + '/' + repo_name, 'file': file }\n",
    "    \n",
    "    df = pd.DataFrame(sorted(\n",
    "        [get_ignore_entry(x) for x in entries],\n",
    "        key = lambda x: (x['repository'], x['file']\n",
    "    )))\n",
    "    \n",
    "    df.to_csv('%s/ignore.csv' % initial_dir, index=False)"
   ]
  },
  {
   "cell_type": "code",
   "execution_count": null,
   "metadata": {},
   "outputs": [],
   "source": [
    "repository, update_result = get_update_result(4)\n",
    "assert(repository.github.origin == 'holatuwol/liferay-docs')"
   ]
  },
  {
   "cell_type": "code",
   "execution_count": null,
   "metadata": {},
   "outputs": [],
   "source": [
    "new_files, all_files, file_info = update_result"
   ]
  },
  {
   "cell_type": "code",
   "execution_count": null,
   "metadata": {},
   "outputs": [],
   "source": [
    "add_ignore_files(repository, 'ja/develop/tutorials/articles/01-introduction-to-liferay-development')\n",
    "add_ignore_files(repository, 'ja/develop/tutorials/articles/100-tooling')\n",
    "add_ignore_files(repository, 'ja/develop/tutorials/articles/120-customizing')\n",
    "add_ignore_files(repository, 'ja/develop/tutorials/articles/140-application-security')\n",
    "add_ignore_files(repository, 'ja/develop/tutorials/articles/150-web-services')\n",
    "add_ignore_files(repository, 'ja/develop/tutorials/articles/160-search')\n",
    "add_ignore_files(repository, 'ja/develop/tutorials/articles/185-liferay-js-apis')\n",
    "add_ignore_files(repository, 'ja/develop/tutorials/articles/210-front-end-taglibs')\n",
    "add_ignore_files(repository, 'ja/develop/tutorials/articles/240-product-navigation')\n",
    "add_ignore_files(repository, 'ja/develop/tutorials/articles/280-workflow')\n",
    "add_ignore_files(repository, 'ja/develop/tutorials/articles/300-internationalization')\n",
    "add_ignore_files(repository, 'ja/develop/tutorials/articles/310-application-display-templates')\n",
    "add_ignore_files(repository, 'ja/develop/tutorials/articles/380-troubleshooting')"
   ]
  },
  {
   "cell_type": "markdown",
   "metadata": {},
   "source": [
    "# Test RST file updates"
   ]
  },
  {
   "cell_type": "code",
   "execution_count": null,
   "metadata": {},
   "outputs": [],
   "source": [
    "repository, update_result = get_update_result(6)\n",
    "assert(repository.github.origin == 'holatuwol/liferay-learn')"
   ]
  },
  {
   "cell_type": "code",
   "execution_count": null,
   "metadata": {},
   "outputs": [],
   "source": [
    "new_files, all_files, file_info = update_result"
   ]
  },
  {
   "cell_type": "code",
   "execution_count": null,
   "metadata": {},
   "outputs": [],
   "source": [
    "from crowdin_sync import update_sources\n",
    "\n",
    "os.chdir(repository.github.git_root)\n",
    "rst_files = [file for file in all_files if file[-4:] == '.rst']\n",
    "update_sources(repository, rst_files)\n",
    "os.chdir(initial_dir)"
   ]
  },
  {
   "cell_type": "code",
   "execution_count": null,
   "metadata": {},
   "outputs": [],
   "source": [
    "os.chdir(repository.github.git_root)\n",
    "for file in file_info.keys():\n",
    "    if file.find(repository.crowdin.dest_folder) == 0 and file[-4:] == '.rst':\n",
    "        local_file = get_local_file(repository, file)\n",
    "        delete_code_translations(repository, local_file, file_info)\n",
    "os.chdir(initial_dir)"
   ]
  },
  {
   "cell_type": "markdown",
   "metadata": {},
   "source": [
    "# Test changes to updates"
   ]
  },
  {
   "cell_type": "code",
   "execution_count": null,
   "metadata": {},
   "outputs": [],
   "source": [
    "repository = get_repositories(False)[6]\n",
    "assert(repository.github.origin == 'holatuwol/liferay-learn')"
   ]
  },
  {
   "cell_type": "code",
   "execution_count": null,
   "metadata": {},
   "outputs": [],
   "source": [
    "update_result = get_repository_state(repository)"
   ]
  },
  {
   "cell_type": "code",
   "execution_count": null,
   "metadata": {},
   "outputs": [],
   "source": [
    "update_result = update_repository(repository)"
   ]
  },
  {
   "cell_type": "code",
   "execution_count": null,
   "metadata": {},
   "outputs": [],
   "source": [
    "uat_domain = 'liferaysupport1528999723.zendesk.com'\n",
    "prod_domain = 'liferay-support.zendesk.com'"
   ]
  },
  {
   "cell_type": "code",
   "execution_count": null,
   "metadata": {},
   "outputs": [],
   "source": [
    "audits = zendesk_get_request(prod_domain, '/tickets/22226/audits.json', 'audit')"
   ]
  },
  {
   "cell_type": "markdown",
   "metadata": {},
   "source": [
    "# Update ZenDesk articles"
   ]
  },
  {
   "cell_type": "code",
   "execution_count": null,
   "metadata": {},
   "outputs": [],
   "source": [
    "uat_domain = 'liferaysupport1528999723.zendesk.com'\n",
    "prod_domain = 'liferay-support.zendesk.com'"
   ]
  },
  {
   "cell_type": "code",
   "execution_count": null,
   "metadata": {},
   "outputs": [],
   "source": [
    "repository = get_repositories(False)[0]\n",
    "assert(repository.github.origin == 'holatuwol/zendesk-articles')"
   ]
  },
  {
   "cell_type": "code",
   "execution_count": null,
   "metadata": {},
   "outputs": [],
   "source": [
    "assert(repository.github.single_folder == 'en/Fast Track')"
   ]
  },
  {
   "cell_type": "code",
   "execution_count": null,
   "metadata": {},
   "outputs": [],
   "source": [
    "# import urllib\n",
    "\n",
    "# zendesk_articles = download_zendesk_articles(repository, prod_domain)\n",
    "\n",
    "# count = 0\n",
    "\n",
    "# for article in zendesk_articles.values():\n",
    "#     if article['locale'] == 'ja':\n",
    "#         print(article['label_names'])\n",
    "#         count = count + 1\n",
    "#         print(urllib.parse.unquote(article['html_url']))\n",
    "\n",
    "# print(count)"
   ]
  },
  {
   "cell_type": "code",
   "execution_count": null,
   "metadata": {},
   "outputs": [],
   "source": [
    "zendesk_articles = update_zendesk_articles(repository, uat_domain)"
   ]
  },
  {
   "cell_type": "code",
   "execution_count": null,
   "metadata": {},
   "outputs": [],
   "source": [
    "df1 = pd.DataFrame([\n",
    "    {'user_segment_id': str(segment['id']), 'user_type': segment['user_type']}\n",
    "        for segment in zendesk_get_request(uat_domain, '/help_center/user_segments.json', 'user_segments')\n",
    "])"
   ]
  },
  {
   "cell_type": "code",
   "execution_count": null,
   "metadata": {},
   "outputs": [],
   "source": [
    "df1"
   ]
  },
  {
   "cell_type": "code",
   "execution_count": null,
   "metadata": {},
   "outputs": [],
   "source": [
    "df2 = pd.DataFrame([\n",
    "    {'article_id': str(article['id']), 'user_segment_id': str(article['user_segment_id'])}\n",
    "         for article in zendesk_articles.values()\n",
    "])\n",
    "\n",
    "df3 = df2.groupby('user_segment_id').count()"
   ]
  },
  {
   "cell_type": "code",
   "execution_count": null,
   "metadata": {},
   "outputs": [],
   "source": [
    "df3"
   ]
  },
  {
   "cell_type": "code",
   "execution_count": null,
   "metadata": {},
   "outputs": [],
   "source": [
    "df1.join(df3, on='user_segment_id', how='right')"
   ]
  },
  {
   "cell_type": "markdown",
   "metadata": {},
   "source": [
    "# Delete repository from CrowdIn"
   ]
  },
  {
   "cell_type": "code",
   "execution_count": null,
   "metadata": {},
   "outputs": [],
   "source": [
    "repository, update_result = get_update_result(0)\n",
    "assert(repository.github.origin == 'holatuwol/zendesk-articles')"
   ]
  },
  {
   "cell_type": "code",
   "execution_count": null,
   "metadata": {},
   "outputs": [],
   "source": [
    "prefix = repository.crowdin.dest_folder + '/'\n",
    "\n",
    "for key, value in file_info.items():\n",
    "    if 'id' not in value and key.find(prefix) == 0 and key.find('/', len(prefix)) != -1:\n",
    "        delete_translation(repository, key)"
   ]
  },
  {
   "cell_type": "markdown",
   "metadata": {},
   "source": [
    "# Remove code blocks"
   ]
  },
  {
   "cell_type": "code",
   "execution_count": null,
   "metadata": {},
   "outputs": [],
   "source": [
    "repository, update_result = get_update_result(1)\n",
    "assert(repository.github.origin == 'holatuwol/liferay-docs')"
   ]
  },
  {
   "cell_type": "code",
   "execution_count": null,
   "metadata": {},
   "outputs": [],
   "source": [
    "new_files, all_files, file_info = update_result"
   ]
  },
  {
   "cell_type": "code",
   "execution_count": null,
   "metadata": {},
   "outputs": [],
   "source": [
    "for file in all_files:\n",
    "    delete_code_translations(repository, file, file_info)"
   ]
  },
  {
   "cell_type": "markdown",
   "metadata": {},
   "source": [
    "# Check orphaned files statistics"
   ]
  },
  {
   "cell_type": "code",
   "execution_count": null,
   "metadata": {},
   "outputs": [],
   "source": [
    "repository, update_result = get_update_result(3)\n",
    "assert(repository.github.origin == 'holatuwol/liferay-learn')"
   ]
  },
  {
   "cell_type": "code",
   "execution_count": null,
   "metadata": {},
   "outputs": [],
   "source": [
    "df = get_orphaned_files_as_data_frame(repository, update_result)"
   ]
  },
  {
   "cell_type": "code",
   "execution_count": null,
   "metadata": {},
   "outputs": [],
   "source": [
    "def get_crowdin_link(file_id):\n",
    "    return '<a href=\"https://crowdin.com/translate/liferay-documentation/%s/en-ja\">%s</a>' % (file_id, file_id)"
   ]
  },
  {
   "cell_type": "code",
   "execution_count": null,
   "metadata": {},
   "outputs": [],
   "source": [
    "df.style.format({'id1': get_crowdin_link, 'id2': get_crowdin_link})"
   ]
  },
  {
   "cell_type": "code",
   "execution_count": null,
   "metadata": {},
   "outputs": [],
   "source": [
    "df[df['translated1'] > 0].style.format({'id1': get_crowdin_link, 'id2': get_crowdin_link})"
   ]
  }
 ],
 "metadata": {
  "kernelspec": {
   "display_name": "Python 3",
   "language": "python",
   "name": "python3"
  },
  "language_info": {
   "codemirror_mode": {
    "name": "ipython",
    "version": 3
   },
   "file_extension": ".py",
   "mimetype": "text/x-python",
   "name": "python",
   "nbconvert_exporter": "python",
   "pygments_lexer": "ipython3",
   "version": "3.7.4"
  }
 },
 "nbformat": 4,
 "nbformat_minor": 2
}

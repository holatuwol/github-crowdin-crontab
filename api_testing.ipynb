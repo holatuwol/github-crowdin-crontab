{
 "cells": [
  {
   "cell_type": "code",
   "execution_count": null,
   "metadata": {
    "scrolled": false
   },
   "outputs": [],
   "source": [
    "from collections import defaultdict\n",
    "from cronjob import get_repositories, get_repository_state, update_repository\n",
    "from crowdin import delete_code_translations, delete_translation, get_orphaned_files_as_data_frame\n",
    "from file_manager import get_crowdin_file, get_local_file\n",
    "import git\n",
    "import json\n",
    "import os\n",
    "import pandas as pd\n",
    "import re\n",
    "from zendesk import update_zendesk_articles, zendesk_request"
   ]
  },
  {
   "cell_type": "code",
   "execution_count": null,
   "metadata": {},
   "outputs": [],
   "source": [
    "repositories_df = pd.read_csv('repositories.csv', comment='#')\n",
    "repositories_df"
   ]
  },
  {
   "cell_type": "code",
   "execution_count": null,
   "metadata": {},
   "outputs": [],
   "source": [
    "def get_update_result(index):\n",
    "    repository = get_repositories(False)[index]\n",
    "    return repository, get_repository_state(repository)"
   ]
  },
  {
   "cell_type": "markdown",
   "metadata": {},
   "source": [
    "# Update ZenDesk articles"
   ]
  },
  {
   "cell_type": "code",
   "execution_count": null,
   "metadata": {},
   "outputs": [],
   "source": [
    "repository = get_repositories(False)[0]\n",
    "assert(repository.github.origin == 'holatuwol/zendesk-articles')"
   ]
  },
  {
   "cell_type": "code",
   "execution_count": null,
   "metadata": {},
   "outputs": [],
   "source": [
    "uat_domain = 'liferaysupport1528999723.zendesk.com'\n",
    "prod_domain = 'liferay-support.zendesk.com'"
   ]
  },
  {
   "cell_type": "code",
   "execution_count": null,
   "metadata": {},
   "outputs": [],
   "source": [
    "zendesk_articles = update_zendesk_articles(repository, uat_domain)"
   ]
  },
  {
   "cell_type": "markdown",
   "metadata": {},
   "source": [
    "# Refresh repository"
   ]
  },
  {
   "cell_type": "code",
   "execution_count": null,
   "metadata": {},
   "outputs": [],
   "source": [
    "repository, update_result = get_update_result(0)\n",
    "assert(repository.github.origin == 'holatuwol/zendesk-articles')"
   ]
  },
  {
   "cell_type": "code",
   "execution_count": null,
   "metadata": {},
   "outputs": [],
   "source": [
    "new_files, all_files, file_info = update_result"
   ]
  },
  {
   "cell_type": "code",
   "execution_count": null,
   "metadata": {},
   "outputs": [],
   "source": [
    "update_result = update_repository(repository)"
   ]
  },
  {
   "cell_type": "code",
   "execution_count": null,
   "metadata": {},
   "outputs": [],
   "source": [
    "from scrape_liferay import authenticate, session"
   ]
  },
  {
   "cell_type": "code",
   "execution_count": null,
   "metadata": {},
   "outputs": [],
   "source": [
    "all_files"
   ]
  },
  {
   "cell_type": "code",
   "execution_count": null,
   "metadata": {},
   "outputs": [],
   "source": [
    "def add_zendesk_translation(file, title):\n",
    "    disclaimer_text = '''\n",
    "<p class=\"alert alert-info\"><span class=\"wysiwyg-color-blue120\">\n",
    "ファストトラック記事は、お客様の利便性のために一部機械翻訳されています。また、ドキュメントは頻繁に更新が加えられており、翻訳は未完成の部分が含まれることをご了承ください。最新情報は都度公開されておりますため、必ず英語版をご参照ください。翻訳に問題がある場合は、[こちら|support-content-jp@liferay.com]までご連絡ください。\n",
    "</span></p>\n",
    "'''\n",
    "    \n",
    "    target_file = 'ja/' + file[3:] if file[0:3] == 'en/' else file.replace('/en/', '/ja/')\n",
    "\n",
    "    if git.ls_files(target_file) != '' and git.diff(target_file) == '':\n",
    "        print('%s already translated' % file)\n",
    "        return\n",
    "\n",
    "    with open(target_file, 'r') as f:\n",
    "        new_file_content = disclaimer_text + f.read()\n",
    "\n",
    "        x = target_file.rfind('/') + 1\n",
    "        y = target_file.find('-', x)\n",
    "        article_id = target_file[x:y]\n",
    "        print(article_id)\n",
    "\n",
    "        json_params = {\n",
    "            'translation': {\n",
    "                'locale': 'ja',\n",
    "                'title': title,\n",
    "                'body': new_file_content                \n",
    "            }\n",
    "        }\n",
    "        \n",
    "        domain = uat_domain\n",
    "        api_path = '/help_center/articles/%s/translations.json' % article_id\n",
    "\n",
    "        parameters = {}\n",
    "        url = 'https://%s/api/v2%s' % (domain, api_path)\n",
    "\n",
    "        r = session.post(url, json=json_params)\n",
    "\n",
    "        print(r.status_code, r.text)"
   ]
  },
  {
   "cell_type": "code",
   "execution_count": null,
   "metadata": {},
   "outputs": [],
   "source": [
    "os.chdir(repository.github.git_root)\n",
    "\n",
    "for file in all_files:\n",
    "    add_zendesk_translation(file, zendesk_articles['360024413271']['title'])"
   ]
  },
  {
   "cell_type": "markdown",
   "metadata": {},
   "source": [
    "# Remove code blocks"
   ]
  },
  {
   "cell_type": "code",
   "execution_count": null,
   "metadata": {},
   "outputs": [],
   "source": [
    "repository, update_result = get_update_result(1)\n",
    "assert(repository.github.origin == 'holatuwol/liferay-docs')"
   ]
  },
  {
   "cell_type": "code",
   "execution_count": null,
   "metadata": {},
   "outputs": [],
   "source": [
    "new_files, all_files, file_info = update_result"
   ]
  },
  {
   "cell_type": "code",
   "execution_count": null,
   "metadata": {},
   "outputs": [],
   "source": [
    "delete_code_translations(\n",
    "    repository,\n",
    "    'en/develop/tutorials/articles/01-introduction-to-liferay-development/00-intro.markdown',\n",
    "    file_info)"
   ]
  },
  {
   "cell_type": "code",
   "execution_count": null,
   "metadata": {},
   "outputs": [],
   "source": [
    "for file in all_files:\n",
    "    delete_code_translations(repository, file, file_info)"
   ]
  },
  {
   "cell_type": "markdown",
   "metadata": {},
   "source": [
    "# Delete files from project"
   ]
  },
  {
   "cell_type": "code",
   "execution_count": null,
   "metadata": {},
   "outputs": [],
   "source": [
    "repository, update_result = get_update_result(0)\n",
    "assert(repository.github.origin == 'holatuwol/zendesk-articles')"
   ]
  },
  {
   "cell_type": "code",
   "execution_count": null,
   "metadata": {},
   "outputs": [],
   "source": [
    "new_files, all_files, file_info = update_result"
   ]
  },
  {
   "cell_type": "code",
   "execution_count": null,
   "metadata": {},
   "outputs": [],
   "source": [
    "for key in [key for key, value in file_info.items() if key.find(repository.crowdin.dest_folder) == 0 and 'id' in value]:\n",
    "    print(key)\n",
    "    #delete_translation(repository, key)"
   ]
  },
  {
   "cell_type": "markdown",
   "metadata": {},
   "source": [
    "# Check orphaned files statistics"
   ]
  },
  {
   "cell_type": "code",
   "execution_count": null,
   "metadata": {},
   "outputs": [],
   "source": [
    "repository, update_result = get_update_result(3)\n",
    "assert(repository.github.origin == 'holatuwol/liferay-learn')"
   ]
  },
  {
   "cell_type": "code",
   "execution_count": null,
   "metadata": {},
   "outputs": [],
   "source": [
    "df = get_orphaned_files_as_data_frame(repository, update_result)"
   ]
  },
  {
   "cell_type": "code",
   "execution_count": null,
   "metadata": {},
   "outputs": [],
   "source": [
    "def get_crowdin_link(file_id):\n",
    "    return '<a href=\"https://crowdin.com/translate/liferay-documentation/%s/en-ja\">%s</a>' % (file_id, file_id)"
   ]
  },
  {
   "cell_type": "code",
   "execution_count": null,
   "metadata": {},
   "outputs": [],
   "source": [
    "df.style.format({'id1': get_crowdin_link, 'id2': get_crowdin_link})"
   ]
  },
  {
   "cell_type": "code",
   "execution_count": null,
   "metadata": {},
   "outputs": [],
   "source": [
    "df[df['translated1'] > 0].style.format({'id1': get_crowdin_link, 'id2': get_crowdin_link})"
   ]
  }
 ],
 "metadata": {
  "kernelspec": {
   "display_name": "Python 3",
   "language": "python",
   "name": "python3"
  },
  "language_info": {
   "codemirror_mode": {
    "name": "ipython",
    "version": 3
   },
   "file_extension": ".py",
   "mimetype": "text/x-python",
   "name": "python",
   "nbconvert_exporter": "python",
   "pygments_lexer": "ipython3",
   "version": "3.7.4"
  }
 },
 "nbformat": 4,
 "nbformat_minor": 2
}

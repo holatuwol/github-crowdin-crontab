{
 "cells": [
  {
   "cell_type": "code",
   "execution_count": null,
   "metadata": {
    "scrolled": false
   },
   "outputs": [],
   "source": [
    "from cronjob import get_repositories, prod_domain, zendesk_cronjob\n",
    "from crowdin import delete_code_translations, get_orphaned_files_as_data_frame\n",
    "from crowdin_sync import get_branch_files, get_repository_state, update_repository\n",
    "from datetime import datetime\n",
    "from file_manager import get_eligible_files, get_local_file\n",
    "import git\n",
    "import json\n",
    "import os\n",
    "import pandas as pd\n",
    "import re\n",
    "from repository import get_subrepositories, initial_dir\n",
    "from zendesk import download_zendesk_articles, update_zendesk_translation"
   ]
  },
  {
   "cell_type": "code",
   "execution_count": null,
   "metadata": {
    "scrolled": true
   },
   "outputs": [],
   "source": [
    "repositories_df = pd.read_csv('repositories.csv', comment='#')\n",
    "repositories_df"
   ]
  },
  {
   "cell_type": "code",
   "execution_count": null,
   "metadata": {},
   "outputs": [],
   "source": [
    "def get_update_result(index):\n",
    "    repository = get_repositories(False)[index]\n",
    "    return repository, get_repository_state(repository)"
   ]
  },
  {
   "cell_type": "code",
   "execution_count": null,
   "metadata": {},
   "outputs": [],
   "source": [
    "get_repositories(False)[5]"
   ]
  },
  {
   "cell_type": "markdown",
   "metadata": {},
   "source": [
    "# List sections"
   ]
  },
  {
   "cell_type": "code",
   "execution_count": null,
   "metadata": {},
   "outputs": [],
   "source": [
    "with open('categories_%s.json' % prod_domain, 'r') as f:\n",
    "    categories = json.load(f)"
   ]
  },
  {
   "cell_type": "code",
   "execution_count": null,
   "metadata": {},
   "outputs": [],
   "source": [
    "pd.DataFrame([\n",
    "    {'category_id': category['id'], 'name': category['name']}\n",
    "        for category in categories.values()\n",
    "            if category['id'] == 360004183251\n",
    "])"
   ]
  },
  {
   "cell_type": "code",
   "execution_count": null,
   "metadata": {},
   "outputs": [],
   "source": [
    "with open('sections_%s.json' % prod_domain, 'r') as f:\n",
    "    sections = json.load(f)"
   ]
  },
  {
   "cell_type": "code",
   "execution_count": null,
   "metadata": {},
   "outputs": [],
   "source": [
    "pd.DataFrame([\n",
    "    {'section_id': section['id'], 'name': section['name']}\n",
    "        for section in sections.values()\n",
    "            if section['category_id'] == 360004183251\n",
    "])"
   ]
  },
  {
   "cell_type": "code",
   "execution_count": null,
   "metadata": {},
   "outputs": [],
   "source": [
    "with open('all_articles_%s.json' % prod_domain, 'r') as f:\n",
    "    all_articles = json.load(f)"
   ]
  },
  {
   "cell_type": "code",
   "execution_count": null,
   "metadata": {},
   "outputs": [],
   "source": [
    "pd.DataFrame([\n",
    "    {'article_id': article['id'], 'title': article['title']}\n",
    "        for article in all_articles.values()\n",
    "            if article['section_id'] in [360010296132]\n",
    "])"
   ]
  },
  {
   "cell_type": "markdown",
   "metadata": {},
   "source": [
    "# Test updating ignore list"
   ]
  },
  {
   "cell_type": "code",
   "execution_count": null,
   "metadata": {},
   "outputs": [],
   "source": [
    "from file_manager import get_eligible_files\n",
    "\n",
    "def add_ignore_files(repository, folder, language):\n",
    "    os.chdir(repository.github.git_root)\n",
    "    \n",
    "    translated_files = get_eligible_files(repository, git.ls_files(folder), language)\n",
    "\n",
    "    os.chdir(initial_dir)\n",
    "\n",
    "    if language != 'en':\n",
    "        source_files = [\n",
    "            'en/' + file[3:] if file[0:3] == '%s/' % language else file.replace('/%s/' % language, '/en/')\n",
    "                for file in translated_files\n",
    "        ]\n",
    "    else:\n",
    "        source_files = translated_files\n",
    "    \n",
    "    entries = set()\n",
    "\n",
    "    for x in pd.read_csv('%s/ignore.csv' % initial_dir).to_records(index=False):\n",
    "        entries.add('%s/%s' % (x[0], x[1]))\n",
    "\n",
    "        if x[1][-3:] == '.md':\n",
    "            entries.add('%s/%s.markdown' % (x[0], x[1][:-3]))\n",
    "    \n",
    "    for x in source_files:\n",
    "        entries.add('%s/%s' % (repository.github.upstream, x))\n",
    "\n",
    "        if x[-3:] == '.md':\n",
    "            entries.add('%s/%s.markdown' % (repository.github.upstream, x[:-3]))\n",
    "\n",
    "    def get_ignore_entry(path):\n",
    "        remote, repo_name, file = path.split('/', 2)\n",
    "        return { 'repository': remote + '/' + repo_name, 'file': file }\n",
    "    \n",
    "    df = pd.DataFrame(sorted(\n",
    "        [get_ignore_entry(x) for x in entries],\n",
    "        key = lambda x: (x['repository'], x['file']\n",
    "    )))\n",
    "    \n",
    "    df.to_csv('%s/ignore.csv' % initial_dir, index=False)"
   ]
  },
  {
   "cell_type": "code",
   "execution_count": null,
   "metadata": {},
   "outputs": [],
   "source": [
    "repository, update_result = get_update_result(4)\n",
    "assert(repository.github.origin == 'holatuwol/liferay-docs')"
   ]
  },
  {
   "cell_type": "code",
   "execution_count": null,
   "metadata": {},
   "outputs": [],
   "source": [
    "new_files, all_files, file_info = update_result"
   ]
  },
  {
   "cell_type": "code",
   "execution_count": null,
   "metadata": {},
   "outputs": [],
   "source": [
    "add_ignore_files(repository, 'ja/develop/tutorials/articles/01-introduction-to-liferay-development', 'ja')\n",
    "add_ignore_files(repository, 'ja/develop/tutorials/articles/100-tooling', 'ja')\n",
    "add_ignore_files(repository, 'ja/develop/tutorials/articles/120-customizing', 'ja')\n",
    "add_ignore_files(repository, 'ja/develop/tutorials/articles/140-application-security', 'ja')\n",
    "add_ignore_files(repository, 'ja/develop/tutorials/articles/150-web-services', 'ja')\n",
    "add_ignore_files(repository, 'ja/develop/tutorials/articles/160-search', 'ja')\n",
    "add_ignore_files(repository, 'ja/develop/tutorials/articles/185-liferay-js-apis', 'ja')\n",
    "add_ignore_files(repository, 'ja/develop/tutorials/articles/210-front-end-taglibs', 'ja')\n",
    "add_ignore_files(repository, 'ja/develop/tutorials/articles/240-product-navigation', 'ja')\n",
    "add_ignore_files(repository, 'ja/develop/tutorials/articles/280-workflow', 'ja')\n",
    "add_ignore_files(repository, 'ja/develop/tutorials/articles/300-internationalization', 'ja')\n",
    "add_ignore_files(repository, 'ja/develop/tutorials/articles/310-application-display-templates', 'ja')\n",
    "add_ignore_files(repository, 'ja/develop/tutorials/articles/380-troubleshooting', 'ja')"
   ]
  },
  {
   "cell_type": "code",
   "execution_count": null,
   "metadata": {},
   "outputs": [],
   "source": [
    "repository, update_result = get_update_result(7)"
   ]
  },
  {
   "cell_type": "markdown",
   "metadata": {},
   "source": [
    "# Remove code blocks"
   ]
  },
  {
   "cell_type": "code",
   "execution_count": null,
   "metadata": {},
   "outputs": [],
   "source": [
    "repository, update_result = get_update_result(7)\n",
    "assert(repository.github.origin == 'holatuwol/liferay-learn')"
   ]
  },
  {
   "cell_type": "code",
   "execution_count": null,
   "metadata": {},
   "outputs": [],
   "source": [
    "new_files, all_files, file_info = update_result"
   ]
  },
  {
   "cell_type": "code",
   "execution_count": null,
   "metadata": {},
   "outputs": [],
   "source": [
    "for file in all_files:\n",
    "    delete_code_translations(repository, file, file_info)"
   ]
  },
  {
   "cell_type": "markdown",
   "metadata": {},
   "source": [
    "# Check orphaned files statistics"
   ]
  },
  {
   "cell_type": "code",
   "execution_count": null,
   "metadata": {},
   "outputs": [],
   "source": [
    "repository, update_result = get_update_result(3)\n",
    "assert(repository.github.origin == 'holatuwol/liferay-learn')"
   ]
  },
  {
   "cell_type": "code",
   "execution_count": null,
   "metadata": {},
   "outputs": [],
   "source": [
    "df = get_orphaned_files_as_data_frame(repository, update_result)"
   ]
  },
  {
   "cell_type": "code",
   "execution_count": null,
   "metadata": {},
   "outputs": [],
   "source": [
    "def get_crowdin_link(file_id):\n",
    "    return '<a href=\"https://crowdin.com/translate/liferay-documentation/%s/en-ja\">%s</a>' % (file_id, file_id)"
   ]
  },
  {
   "cell_type": "code",
   "execution_count": null,
   "metadata": {},
   "outputs": [],
   "source": [
    "df.style.format({'id1': get_crowdin_link, 'id2': get_crowdin_link})"
   ]
  },
  {
   "cell_type": "code",
   "execution_count": null,
   "metadata": {},
   "outputs": [],
   "source": [
    "df[df['translated1'] > 0].style.format({'id1': get_crowdin_link, 'id2': get_crowdin_link})"
   ]
  }
 ],
 "metadata": {
  "kernelspec": {
   "display_name": "Python 3",
   "language": "python",
   "name": "python3"
  },
  "language_info": {
   "codemirror_mode": {
    "name": "ipython",
    "version": 3
   },
   "file_extension": ".py",
   "mimetype": "text/x-python",
   "name": "python",
   "nbconvert_exporter": "python",
   "pygments_lexer": "ipython3",
   "version": "3.7.4"
  }
 },
 "nbformat": 4,
 "nbformat_minor": 2
}
